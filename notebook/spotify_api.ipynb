{
 "cells": [
  {
   "cell_type": "code",
   "execution_count": 1,
   "metadata": {
    "collapsed": true,
    "jupyter": {
     "outputs_hidden": true
    }
   },
   "outputs": [
    {
     "name": "stdout",
     "output_type": "stream",
     "text": [
      "Requirement already satisfied: spotipy in /Users/antoniosanmateuserralta/.local/lib/python3.7/site-packages (2.16.1)\n",
      "Requirement already satisfied: requests>=2.20.0 in /opt/anaconda3/lib/python3.7/site-packages (from spotipy) (2.24.0)\n",
      "Requirement already satisfied: six>=1.10.0 in /opt/anaconda3/lib/python3.7/site-packages (from spotipy) (1.14.0)\n",
      "Requirement already satisfied: certifi>=2017.4.17 in /opt/anaconda3/lib/python3.7/site-packages (from requests>=2.20.0->spotipy) (2020.6.20)\n",
      "Requirement already satisfied: idna<3,>=2.5 in /opt/anaconda3/lib/python3.7/site-packages (from requests>=2.20.0->spotipy) (2.8)\n",
      "Requirement already satisfied: urllib3!=1.25.0,!=1.25.1,<1.26,>=1.21.1 in /opt/anaconda3/lib/python3.7/site-packages (from requests>=2.20.0->spotipy) (1.25.8)\n",
      "Requirement already satisfied: chardet<4,>=3.0.2 in /opt/anaconda3/lib/python3.7/site-packages (from requests>=2.20.0->spotipy) (3.0.4)\n",
      "Note: you may need to restart the kernel to use updated packages.\n"
     ]
    }
   ],
   "source": [
    "pip install spotipy --user"
   ]
  },
  {
   "cell_type": "code",
   "execution_count": 4,
   "metadata": {},
   "outputs": [],
   "source": [
    "import spotipy\n",
    "from spotipy.oauth2 import SpotifyClientCredentials\n",
    "from pandas_profiling import ProfileReport\n",
    "import spotipy.util as util\n",
    "import pandas as pd\n",
    "import numpy as np\n",
    "import matplotlib.pyplot as plt\n",
    "import seaborn as sns\n",
    "import time\n",
    "import os\n",
    "import sys\n",
    "import re"
   ]
  },
  {
   "cell_type": "code",
   "execution_count": 5,
   "metadata": {},
   "outputs": [],
   "source": [
    "CLIENT_ID = 'abc846a923064e3fa5da4b77c7544edb'\n",
    "CLIENT_SECRET = '78d671b3072c4015bc6b505e527b0430'\n",
    "\n",
    "client_credentials_manager = SpotifyClientCredentials(CLIENT_ID, CLIENT_SECRET)\n",
    "sp = spotipy.Spotify(client_credentials_manager=client_credentials_manager)"
   ]
  },
  {
   "cell_type": "code",
   "execution_count": 6,
   "metadata": {
    "collapsed": true,
    "jupyter": {
     "outputs_hidden": true
    }
   },
   "outputs": [
    {
     "name": "stdout",
     "output_type": "stream",
     "text": [
      "   1 spotify:playlist:37i9dQZEVXcS84JdDKU6iA Discover Weekly\n",
      "   2 spotify:playlist:6ZWdA2cosw0MzqSdY9EHqP songflower\n",
      "   3 spotify:playlist:2l8mkJIhrA36zMnHNn2SCr - - -\n",
      "   4 spotify:playlist:0HLnI6I5AqM3248hzjJr0A rural\n",
      "   5 spotify:playlist:2mOeAzKh91xnRMDxtm2oWL berlin\n",
      "   6 spotify:playlist:1F1Qn9UuzhdrKSShe80q5w 🌻\n",
      "   7 spotify:playlist:3shHRa4mCvQyN24uKgj3KD 16\n",
      "   8 spotify:playlist:4ZIvg6ebD55EknwfxQL8bP chillin\n",
      "   9 spotify:playlist:1GEsIzyQG79229SruxbRdh somewhere\n",
      "  10 spotify:playlist:5bgcgftAYXyvLNxnsUTtOU trascendence\n",
      "  11 spotify:playlist:5fDlPwhGVItUaOO7OwFbwP surf\n",
      "  12 spotify:playlist:2DbXdwv2U6VkFbr5JiP7Ae distorsion\n",
      "  13 spotify:playlist:60PC5pT8FxsmRDm1Y938rZ jazzbrew\n",
      "  14 spotify:playlist:5DoaPPsiXm0MMU0a1aRQuz downtempo\n",
      "  15 spotify:playlist:18jEDjkp7mKygv7YBxS4xc amygdala\n",
      "  16 spotify:playlist:3Iv05wyVDyyfBBiNSHNtq9 CO2\n",
      "  17 spotify:playlist:27HP6mMoeKlqFnKx2QTKeu Lablack\n",
      "  18 spotify:playlist:01EfFTAAO5kYKtV1Bc1wb8 rooftop\n",
      "  19 spotify:playlist:0uXV6t6FPgWFljV7A0sEjq tech-house\n",
      "  20 spotify:playlist:5tv62tv2pPR8SoduXrG1lU club\n",
      "  21 spotify:playlist:05ExDmmzAKhWrEqqHadxYm warehouse\n",
      "  22 spotify:playlist:1lIGu5LwROTLWH9XXMszSM industrial\n",
      "  23 spotify:playlist:37i9dQZF1DWWEJlAGA9gs0 Classical Essentials\n",
      "  24 spotify:playlist:1MrqJVdt4YtB2QZIWbsHJC SeaSky\n",
      "  25 spotify:playlist:2aoYrLQp9qkZOGD8h50PFS chinatown\n",
      "  26 spotify:playlist:72wQllbzH7kwVtJSYngqPl Circular\n",
      "  27 spotify:playlist:6CP0NDghKVEYFAMi402GbH o Brasil\n",
      "  28 spotify:playlist:1fvWIdqwaILUBWabJL9fm5 Ninja Tune - On Repeat 🔂\n",
      "  29 spotify:playlist:2uzbATYxs9V8YQi5lf89WG 🛸📀🔵📀🛸❄️👁🧘‍♀️🦕⓪🧞‍♀️🐞🛸📀🔵📀🛸 ꑡ᷉ˋ͈۝ˊ͈ꑡ᷉༄🎷🛸📀🔵📀🛸🔋̵̨̛̱̥͕́̎́̐͝/̸̠̜̅̐☢️🛸📀🔵📀🛸\n",
      "  30 spotify:playlist:3fSGOdwg5kr84Fstwj2NPU Jazz for Rain or Snow\n",
      "  31 spotify:playlist:4Tt7UCk3wR6iLiFDFMlgo7 DJ-Kicks (DJ Koze) [Mixed Tracks]\n",
      "  32 spotify:playlist:1rhup67fxDpX7Xnft41Oun Amygdala\n",
      "  33 spotify:playlist:7l0txtmehwKKSL3BvcAtfJ GINGER\n",
      "  34 spotify:playlist:5tqFEmrvsodeXwqVyFd7NB Galimatias – Renaissance Boy\n",
      "  35 spotify:playlist:7wkxjDDNyOhCKPzmUqFYpL Snarky Puppy – Sylva\n",
      "  36 spotify:playlist:4GzqDXP65TsQvcWCTFvrh8 Daft Punk – Homework\n",
      "  37 spotify:playlist:3U2usm1rtklVQnwGnSsoRi Bon Iver – 22, A Million\n",
      "  38 spotify:playlist:6Mv5Pt0PcSEGGEPyyVkOBN The Beatles – Abbey Road (Remastered)\n",
      "  39 spotify:playlist:4p3xM4C4BJRhfE7qDJ3aQd Miles Davis – Kind Of Blue (Legacy Edition)\n",
      "  40 spotify:playlist:57KMOLFIAlld70d4x6FNSg Mike Patton – Mondo cane\n",
      "  41 spotify:playlist:6s0ACNgujK50pPZD1HCxiL Peter Cat Recording Co. – Bismillah\n",
      "  42 spotify:playlist:0NPOd7IzcO2zNa5B5xyzRl Daniel Avery – Drone Logic\n",
      "  43 spotify:playlist:0pwD4I9SJQqV1aK7EawOfm Disclosure – Ecstasy\n",
      "  44 spotify:playlist:246nAGf0gxgu7kAdzm7S9e Silvio Rodríguez – Al Final de Este Viaje...\n",
      "  45 spotify:playlist:5JO3BHCIqDFvnjUOm7U9XX Snarky Puppy – We Like It Here\n",
      "  46 spotify:playlist:6Z1s98fiJzpG9gHlSV5MfB Alice Coltrane – Journey In Satchidananda\n",
      "  47 spotify:playlist:66XXdqQYl5vytFc4vULDkN Massive Attack – Mezzanine\n",
      "  48 spotify:playlist:70ANR5En4fHJisyiyus5il Miles Davis – Sketches Of Spain 50th Anniversary (Legacy Edition)\n",
      "  49 spotify:playlist:0y9Ahb9Br75IGOJCmJGN5q Nils Frahm – Music for the Motion Picture Victoria (Bonus Track Version)\n"
     ]
    }
   ],
   "source": [
    "playlists = sp.user_playlists('118192051')\n",
    "\n",
    "while playlists:\n",
    "    for i, playlist in enumerate(playlists['items']):\n",
    "        print(\"%4d %s %s\" % (i + 1 + playlists['offset'], playlist['uri'],  playlist['name']))\n",
    "    if playlists['next']:\n",
    "        playlists = sp.next(playlists)\n",
    "    else:\n",
    "        playlists = None"
   ]
  },
  {
   "cell_type": "code",
   "execution_count": 45,
   "metadata": {},
   "outputs": [],
   "source": [
    "def getTrackIDs(user, playlist_id):\n",
    "    ids = []\n",
    "    playlist = sp.user_playlist(user, playlist_id)\n",
    "    for item in playlist['tracks']['items']:\n",
    "        track = item['track']\n",
    "        ids.append(track['id'])\n",
    "    return ids\n",
    "\n",
    "def getTrackFeatures(id):\n",
    "    meta = sp.track(id)\n",
    "    features = sp.audio_features(id)\n",
    "\n",
    "    # meta\n",
    "    name = meta['name']\n",
    "    album = meta['album']['name']\n",
    "    artist = meta['album']['artists'][0]['name']\n",
    "    release_date = meta['album']['release_date']\n",
    "    length = meta['duration_ms']\n",
    "    popularity = meta['popularity']\n",
    "\n",
    "    # features\n",
    "    acousticness = features[0]['acousticness']\n",
    "    danceability = features[0]['danceability']\n",
    "    energy = features[0]['energy']\n",
    "    instrumentalness = features[0]['instrumentalness']\n",
    "    liveness = features[0]['liveness']\n",
    "    loudness = features[0]['loudness']\n",
    "    speechiness = features[0]['speechiness']\n",
    "    tempo = features[0]['tempo']\n",
    "    time_signature = features[0]['time_signature']\n",
    "\n",
    "    track = [name, album, artist, release_date, length, popularity, danceability, acousticness, danceability, energy, instrumentalness, liveness, loudness, speechiness, tempo, time_signature]\n",
    "    return track\n",
    "\n",
    "songflower_track_ids = getTrackIDs('118192051', '6ZWdA2cosw0MzqSdY9EHqP')\n",
    "\n",
    "# loop over track ids \n",
    "tracks = []\n",
    "for i in range(len(songflower_track_ids)):\n",
    "    time.sleep(.5)\n",
    "    track = getTrackFeatures(songflower_track_ids[i])\n",
    "    tracks.append(track)\n",
    "\n",
    "# create dataset\n",
    "songflower_df = pd.DataFrame(tracks, columns = ['name', 'album', 'artist', 'release_date', 'length', 'popularity', 'danceability', \n",
    "                                     'acousticness', 'danceability', 'energy', 'instrumentalness', 'liveness', 'loudness', \n",
    "                                     'speechiness', 'tempo', 'time_signature'])"
   ]
  }
 ],
 "metadata": {
  "kernelspec": {
   "display_name": "Python 3",
   "language": "python",
   "name": "python3"
  },
  "language_info": {
   "codemirror_mode": {
    "name": "ipython",
    "version": 3
   },
   "file_extension": ".py",
   "mimetype": "text/x-python",
   "name": "python",
   "nbconvert_exporter": "python",
   "pygments_lexer": "ipython3",
   "version": "3.7.6"
  }
 },
 "nbformat": 4,
 "nbformat_minor": 4
}
